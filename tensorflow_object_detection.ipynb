{
  "nbformat": 4,
  "nbformat_minor": 0,
  "metadata": {
    "colab": {
      "provenance": [],
      "gpuType": "T4",
      "authorship_tag": "ABX9TyOQX8u5jfMvoMhHO4W1frN5",
      "include_colab_link": true
    },
    "kernelspec": {
      "name": "python3",
      "display_name": "Python 3"
    },
    "language_info": {
      "name": "python"
    },
    "accelerator": "GPU"
  },
  "cells": [
    {
      "cell_type": "markdown",
      "metadata": {
        "id": "view-in-github",
        "colab_type": "text"
      },
      "source": [
        "<a href=\"https://colab.research.google.com/github/zxzimeng/tensorflow_object_detect_colab/blob/main/tensorflow_object_detection.ipynb\" target=\"_parent\"><img src=\"https://colab.research.google.com/assets/colab-badge.svg\" alt=\"Open In Colab\"/></a>"
      ]
    },
    {
      "cell_type": "code",
      "source": [
        "%%bash\n",
        "pip install numpy==1.24.3\n",
        "pip install protobuf==3.20.3"
      ],
      "metadata": {
        "colab": {
          "base_uri": "https://localhost:8080/"
        },
        "id": "3LQvyRLG-oav",
        "outputId": "535f94fd-72c1-415b-976c-65b087186613"
      },
      "execution_count": 5,
      "outputs": [
        {
          "output_type": "stream",
          "name": "stdout",
          "text": [
            "Collecting numpy==1.24.3\n",
            "  Downloading numpy-1.24.3-cp310-cp310-manylinux_2_17_x86_64.manylinux2014_x86_64.whl.metadata (5.6 kB)\n",
            "Downloading numpy-1.24.3-cp310-cp310-manylinux_2_17_x86_64.manylinux2014_x86_64.whl (17.3 MB)\n",
            "   ━━━━━━━━━━━━━━━━━━━━━━━━━━━━━━━━━━━━━━━━ 17.3/17.3 MB 67.8 MB/s eta 0:00:00\n",
            "Installing collected packages: numpy\n",
            "Successfully installed numpy-1.24.3\n",
            "Collecting protobuf==3.20.3\n",
            "  Downloading protobuf-3.20.3-cp310-cp310-manylinux_2_12_x86_64.manylinux2010_x86_64.whl.metadata (679 bytes)\n",
            "Downloading protobuf-3.20.3-cp310-cp310-manylinux_2_12_x86_64.manylinux2010_x86_64.whl (1.1 MB)\n",
            "   ━━━━━━━━━━━━━━━━━━━━━━━━━━━━━━━━━━━━━━━━ 1.1/1.1 MB 20.0 MB/s eta 0:00:00\n",
            "Installing collected packages: protobuf\n",
            "Successfully installed protobuf-3.20.3\n"
          ]
        },
        {
          "output_type": "stream",
          "name": "stderr",
          "text": [
            "WARNING: Running pip as the 'root' user can result in broken permissions and conflicting behaviour with the system package manager. It is recommended to use a virtual environment instead: https://pip.pypa.io/warnings/venv\n",
            "WARNING: Running pip as the 'root' user can result in broken permissions and conflicting behaviour with the system package manager. It is recommended to use a virtual environment instead: https://pip.pypa.io/warnings/venv\n"
          ]
        }
      ]
    },
    {
      "cell_type": "code",
      "source": [
        "%%bash\n",
        "git clone https://github.com/tensorflow/models"
      ],
      "metadata": {
        "id": "O1DMZqIl-sLX"
      },
      "execution_count": null,
      "outputs": []
    },
    {
      "cell_type": "code",
      "source": [
        "%%bash\n",
        "sudo apt install -y protobuf-compiler\n",
        "cd models/research/\n",
        "protoc object_detection/protos/*.proto --python_out=.\n",
        "cp object_detection/packages/tf2/setup.py .\n",
        "python -m pip install ."
      ],
      "metadata": {
        "id": "jqoJEJOa-0f7"
      },
      "execution_count": null,
      "outputs": []
    },
    {
      "cell_type": "code",
      "source": [
        "%%bash\n",
        "pip install \"tensorflow>=2.0.0\"\n",
        "pip install --upgrade tensorflow-hub"
      ],
      "metadata": {
        "id": "4A-1QTdX_TCw"
      },
      "execution_count": null,
      "outputs": []
    },
    {
      "cell_type": "code",
      "source": [
        "%%bash\n",
        "mkdir training_demo\n",
        "cd training_demo\n",
        "mkdir annotations\n",
        "mkdir exported-models\n",
        "mkdir images\n",
        "mkdir images/test\n",
        "mkdir images/train\n",
        "mkdir models\n",
        "mkdir pre-trained-models"
      ],
      "metadata": {
        "id": "ZKGto4fUANWt"
      },
      "execution_count": 12,
      "outputs": []
    },
    {
      "cell_type": "code",
      "source": [
        "!pip install roboflow\n",
        "\n",
        "from roboflow import Roboflow\n",
        "rf = Roboflow(api_key=\"9R1mbo9LINwDbh4XU7mF\")\n",
        "project = rf.workspace(\"fwe01\").project(\"3d-printing-defect\")\n",
        "version = project.version(6)\n",
        "dataset = version.download(\"voc\")\n",
        "\n",
        "##rename downloaded file to dataset"
      ],
      "metadata": {
        "id": "2VdTxneBA6xA"
      },
      "execution_count": null,
      "outputs": []
    },
    {
      "cell_type": "code",
      "source": [
        "%%bash\n",
        "cp -r dataset/test training_demo/images\n",
        "cp -r dataset/train training_demo/images"
      ],
      "metadata": {
        "id": "JwfE4YYUBQHX"
      },
      "execution_count": 16,
      "outputs": []
    },
    {
      "cell_type": "code",
      "source": [
        "%%bash\n",
        "mv training_demo/images/test/*.xml /content/training_demo/annotations\n",
        "mv training_demo/images/train/*.xml /content/training_demo/annotations"
      ],
      "metadata": {
        "id": "MoFMtxziBiEZ"
      },
      "execution_count": 17,
      "outputs": []
    },
    {
      "cell_type": "code",
      "source": [
        "%%bash\n",
        "cat <<EOT > training_demo/annotations/label_map.pbtxt\n",
        "item {\n",
        "    id: 1\n",
        "    name: 'spaghetti'\n",
        "}\n",
        "EOT"
      ],
      "metadata": {
        "id": "18sNXikqBvFW"
      },
      "execution_count": 23,
      "outputs": []
    },
    {
      "cell_type": "code",
      "source": [
        "%%bash\n",
        "cat <<EOT>generate_tfrecord.py\n",
        "\"\"\" Sample TensorFlow XML-to-TFRecord converter\n",
        "\n",
        "usage: generate_tfrecord.py [-h] [-x XML_DIR] [-l LABELS_PATH] [-o OUTPUT_PATH] [-i IMAGE_DIR] [-c CSV_PATH]\n",
        "\n",
        "optional arguments:\n",
        "  -h, --help            show this help message and exit\n",
        "  -x XML_DIR, --xml_dir XML_DIR\n",
        "                        Path to the folder where the input .xml files are stored.\n",
        "  -l LABELS_PATH, --labels_path LABELS_PATH\n",
        "                        Path to the labels (.pbtxt) file.\n",
        "  -o OUTPUT_PATH, --output_path OUTPUT_PATH\n",
        "                        Path of output TFRecord (.record) file.\n",
        "  -i IMAGE_DIR, --image_dir IMAGE_DIR\n",
        "                        Path to the folder where the input image files are stored. Defaults to the same directory as XML_DIR.\n",
        "  -c CSV_PATH, --csv_path CSV_PATH\n",
        "                        Path of output .csv file. If none provided, then no file will be written.\n",
        "\"\"\"\n",
        "\n",
        "import os\n",
        "import glob\n",
        "import pandas as pd\n",
        "import io\n",
        "import xml.etree.ElementTree as ET\n",
        "import argparse\n",
        "\n",
        "os.environ['TF_CPP_MIN_LOG_LEVEL'] = '2'    # Suppress TensorFlow logging (1)\n",
        "import tensorflow.compat.v1 as tf\n",
        "from PIL import Image\n",
        "from object_detection.utils import dataset_util, label_map_util\n",
        "from collections import namedtuple\n",
        "\n",
        "# Initiate argument parser\n",
        "parser = argparse.ArgumentParser(\n",
        "    description=\"Sample TensorFlow XML-to-TFRecord converter\")\n",
        "parser.add_argument(\"-x\",\n",
        "                    \"--xml_dir\",\n",
        "                    help=\"Path to the folder where the input .xml files are stored.\",\n",
        "                    type=str)\n",
        "parser.add_argument(\"-l\",\n",
        "                    \"--labels_path\",\n",
        "                    help=\"Path to the labels (.pbtxt) file.\", type=str)\n",
        "parser.add_argument(\"-o\",\n",
        "                    \"--output_path\",\n",
        "                    help=\"Path of output TFRecord (.record) file.\", type=str)\n",
        "parser.add_argument(\"-i\",\n",
        "                    \"--image_dir\",\n",
        "                    help=\"Path to the folder where the input image files are stored. \"\n",
        "                         \"Defaults to the same directory as XML_DIR.\",\n",
        "                    type=str, default=None)\n",
        "parser.add_argument(\"-c\",\n",
        "                    \"--csv_path\",\n",
        "                    help=\"Path of output .csv file. If none provided, then no file will be \"\n",
        "                         \"written.\",\n",
        "                    type=str, default=None)\n",
        "\n",
        "args = parser.parse_args()\n",
        "\n",
        "if args.image_dir is None:\n",
        "    args.image_dir = args.xml_dir\n",
        "\n",
        "label_map = label_map_util.load_labelmap(args.labels_path)\n",
        "label_map_dict = label_map_util.get_label_map_dict(label_map)\n",
        "\n",
        "\n",
        "def xml_to_csv(path):\n",
        "    \"\"\"Iterates through all .xml files (generated by labelImg) in a given directory and combines\n",
        "    them in a single Pandas dataframe.\n",
        "\n",
        "    Parameters:\n",
        "    ----------\n",
        "    path : str\n",
        "        The path containing the .xml files\n",
        "    Returns\n",
        "    -------\n",
        "    Pandas DataFrame\n",
        "        The produced dataframe\n",
        "    \"\"\"\n",
        "\n",
        "    xml_list = []\n",
        "    for xml_file in glob.glob(path + '/*.xml'):\n",
        "        tree = ET.parse(xml_file)\n",
        "        root = tree.getroot()\n",
        "        filename = root.find('filename').text\n",
        "        width = int(root.find('size').find('width').text)\n",
        "        height = int(root.find('size').find('height').text)\n",
        "        for member in root.findall('object'):\n",
        "            bndbox = member.find('bndbox')\n",
        "            value = (filename,\n",
        "                     width,\n",
        "                     height,\n",
        "                     member.find('name').text,\n",
        "                     int(bndbox.find('xmin').text),\n",
        "                     int(bndbox.find('ymin').text),\n",
        "                     int(bndbox.find('xmax').text),\n",
        "                     int(bndbox.find('ymax').text),\n",
        "                     )\n",
        "            xml_list.append(value)\n",
        "    column_name = ['filename', 'width', 'height',\n",
        "                   'class', 'xmin', 'ymin', 'xmax', 'ymax']\n",
        "    xml_df = pd.DataFrame(xml_list, columns=column_name)\n",
        "    return xml_df\n",
        "\n",
        "\n",
        "def class_text_to_int(row_label):\n",
        "    return label_map_dict[row_label]\n",
        "\n",
        "\n",
        "def split(df, group):\n",
        "    data = namedtuple('data', ['filename', 'object'])\n",
        "    gb = df.groupby(group)\n",
        "    return [data(filename, gb.get_group(x)) for filename, x in zip(gb.groups.keys(), gb.groups)]\n",
        "\n",
        "\n",
        "def create_tf_example(group, path):\n",
        "    with tf.gfile.GFile(os.path.join(path, '{}'.format(group.filename)), 'rb') as fid:\n",
        "        encoded_jpg = fid.read()\n",
        "    encoded_jpg_io = io.BytesIO(encoded_jpg)\n",
        "    image = Image.open(encoded_jpg_io)\n",
        "    width, height = image.size\n",
        "\n",
        "    filename = group.filename.encode('utf8')\n",
        "    image_format = b'jpg'\n",
        "    xmins = []\n",
        "    xmaxs = []\n",
        "    ymins = []\n",
        "    ymaxs = []\n",
        "    classes_text = []\n",
        "    classes = []\n",
        "\n",
        "    for index, row in group.object.iterrows():\n",
        "        xmins.append(row['xmin'] / width)\n",
        "        xmaxs.append(row['xmax'] / width)\n",
        "        ymins.append(row['ymin'] / height)\n",
        "        ymaxs.append(row['ymax'] / height)\n",
        "        classes_text.append(row['class'].encode('utf8'))\n",
        "        classes.append(class_text_to_int(row['class']))\n",
        "\n",
        "    tf_example = tf.train.Example(features=tf.train.Features(feature={\n",
        "        'image/height': dataset_util.int64_feature(height),\n",
        "        'image/width': dataset_util.int64_feature(width),\n",
        "        'image/filename': dataset_util.bytes_feature(filename),\n",
        "        'image/source_id': dataset_util.bytes_feature(filename),\n",
        "        'image/encoded': dataset_util.bytes_feature(encoded_jpg),\n",
        "        'image/format': dataset_util.bytes_feature(image_format),\n",
        "        'image/object/bbox/xmin': dataset_util.float_list_feature(xmins),\n",
        "        'image/object/bbox/xmax': dataset_util.float_list_feature(xmaxs),\n",
        "        'image/object/bbox/ymin': dataset_util.float_list_feature(ymins),\n",
        "        'image/object/bbox/ymax': dataset_util.float_list_feature(ymaxs),\n",
        "        'image/object/class/text': dataset_util.bytes_list_feature(classes_text),\n",
        "        'image/object/class/label': dataset_util.int64_list_feature(classes),\n",
        "    }))\n",
        "    return tf_example\n",
        "\n",
        "\n",
        "def main(_):\n",
        "\n",
        "    writer = tf.python_io.TFRecordWriter(args.output_path)\n",
        "    path = os.path.join(args.image_dir)\n",
        "    examples = xml_to_csv(args.xml_dir)\n",
        "    grouped = split(examples, 'filename')\n",
        "    for group in grouped:\n",
        "        tf_example = create_tf_example(group, path)\n",
        "        writer.write(tf_example.SerializeToString())\n",
        "    writer.close()\n",
        "    print('Successfully created the TFRecord file: {}'.format(args.output_path))\n",
        "    if args.csv_path is not None:\n",
        "        examples.to_csv(args.csv_path, index=None)\n",
        "        print('Successfully created the CSV file: {}'.format(args.csv_path))\n",
        "\n",
        "\n",
        "if __name__ == '__main__':\n",
        "    tf.app.run()\n",
        "EOT"
      ],
      "metadata": {
        "id": "0fUVOpdMClxy"
      },
      "execution_count": 25,
      "outputs": []
    },
    {
      "cell_type": "code",
      "source": [
        "!pip install pandas"
      ],
      "metadata": {
        "colab": {
          "base_uri": "https://localhost:8080/"
        },
        "id": "atVmCBw_Cadf",
        "outputId": "44120e9e-8ff3-4562-cbb2-a738dd487b07"
      },
      "execution_count": 26,
      "outputs": [
        {
          "output_type": "stream",
          "name": "stdout",
          "text": [
            "Requirement already satisfied: pandas in /usr/local/lib/python3.10/site-packages (2.2.1)\n",
            "Requirement already satisfied: numpy<2,>=1.22.4 in /usr/local/lib/python3.10/site-packages (from pandas) (1.24.3)\n",
            "Requirement already satisfied: python-dateutil>=2.8.2 in /usr/local/lib/python3.10/site-packages (from pandas) (2.9.0.post0)\n",
            "Requirement already satisfied: pytz>=2020.1 in /usr/local/lib/python3.10/site-packages (from pandas) (2024.1)\n",
            "Requirement already satisfied: tzdata>=2022.7 in /usr/local/lib/python3.10/site-packages (from pandas) (2024.1)\n",
            "Requirement already satisfied: six>=1.5 in /usr/local/lib/python3.10/site-packages (from python-dateutil>=2.8.2->pandas) (1.16.0)\n",
            "\u001b[33mWARNING: Running pip as the 'root' user can result in broken permissions and conflicting behaviour with the system package manager. It is recommended to use a virtual environment instead: https://pip.pypa.io/warnings/venv\u001b[0m\u001b[33m\n",
            "\u001b[0m"
          ]
        }
      ]
    },
    {
      "cell_type": "code",
      "source": [
        "%%bash\n",
        "python generate_tfrecord.py -x /content/training_demo/images/train -l /content/training_demo/annotations/label_map.pbtxt -o /content/training_demo/annotations/train.record\n",
        "python generate_tfrecord.py -x /content/training_demo/images/test -l /content/training_demo/annotations/label_map.pbtxt -o /content/training_demo/annotations/test.record\n"
      ],
      "metadata": {
        "colab": {
          "base_uri": "https://localhost:8080/"
        },
        "id": "0EdUGWjgC0iJ",
        "outputId": "ea6da52a-57cc-4bc7-9b90-bcf62296a9a5"
      },
      "execution_count": 27,
      "outputs": [
        {
          "output_type": "stream",
          "name": "stdout",
          "text": [
            "Successfully created the TFRecord file: /content/training_demo/annotations/train.record\n",
            "Successfully created the TFRecord file: /content/training_demo/annotations/test.record\n"
          ]
        }
      ]
    },
    {
      "cell_type": "code",
      "source": [
        "%%bash\n",
        "wget http://download.tensorflow.org/models/object_detection/tf2/20200711/ssd_mobilenet_v2_fpnlite_640x640_coco17_tpu-8.tar.gz"
      ],
      "metadata": {
        "id": "KWR2T9VDDUwt"
      },
      "execution_count": null,
      "outputs": []
    },
    {
      "cell_type": "code",
      "source": [
        "!tar -xvzf /content/ssd_mobilenet_v2_fpnlite_640x640_coco17_tpu-8.tar.gz"
      ],
      "metadata": {
        "colab": {
          "base_uri": "https://localhost:8080/"
        },
        "id": "gUoDLLybDi0i",
        "outputId": "dce8cea3-cabd-41da-e84f-e4f2a2af0826"
      },
      "execution_count": 33,
      "outputs": [
        {
          "output_type": "stream",
          "name": "stdout",
          "text": [
            "ssd_mobilenet_v2_fpnlite_640x640_coco17_tpu-8/\n",
            "ssd_mobilenet_v2_fpnlite_640x640_coco17_tpu-8/checkpoint/\n",
            "ssd_mobilenet_v2_fpnlite_640x640_coco17_tpu-8/checkpoint/ckpt-0.data-00000-of-00001\n",
            "ssd_mobilenet_v2_fpnlite_640x640_coco17_tpu-8/checkpoint/checkpoint\n",
            "ssd_mobilenet_v2_fpnlite_640x640_coco17_tpu-8/checkpoint/ckpt-0.index\n",
            "ssd_mobilenet_v2_fpnlite_640x640_coco17_tpu-8/pipeline.config\n",
            "ssd_mobilenet_v2_fpnlite_640x640_coco17_tpu-8/saved_model/\n",
            "ssd_mobilenet_v2_fpnlite_640x640_coco17_tpu-8/saved_model/saved_model.pb\n",
            "ssd_mobilenet_v2_fpnlite_640x640_coco17_tpu-8/saved_model/variables/\n",
            "ssd_mobilenet_v2_fpnlite_640x640_coco17_tpu-8/saved_model/variables/variables.data-00000-of-00001\n",
            "ssd_mobilenet_v2_fpnlite_640x640_coco17_tpu-8/saved_model/variables/variables.index\n"
          ]
        }
      ]
    }
  ]
}